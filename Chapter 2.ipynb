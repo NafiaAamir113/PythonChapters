{
 "cells": [
  {
   "cell_type": "markdown",
   "id": "ecf9ceae",
   "metadata": {},
   "source": [
    "# Constants"
   ]
  },
  {
   "cell_type": "code",
   "execution_count": 1,
   "id": "e616cd06",
   "metadata": {},
   "outputs": [
    {
     "name": "stdout",
     "output_type": "stream",
     "text": [
      "123\n",
      "98.6\n",
      "Hello world\n"
     ]
    }
   ],
   "source": [
    "print(123)\n",
    "print(98.6)\n",
    "print('Hello world')\n"
   ]
  },
  {
   "cell_type": "markdown",
   "id": "d558083f",
   "metadata": {},
   "source": [
    "# Variables"
   ]
  },
  {
   "cell_type": "code",
   "execution_count": 5,
   "id": "1d964f1a",
   "metadata": {},
   "outputs": [
    {
     "name": "stdout",
     "output_type": "stream",
     "text": [
      "437.5\n"
     ]
    }
   ],
   "source": [
    "hours = 35.0 \n",
    "rate = 12.50 \n",
    "pay = hours * rate\n",
    "print(pay)"
   ]
  },
  {
   "cell_type": "markdown",
   "id": "3f9f824b",
   "metadata": {},
   "source": [
    "# Sentences or lines\n"
   ]
  },
  {
   "cell_type": "code",
   "execution_count": 6,
   "id": "30373254",
   "metadata": {},
   "outputs": [
    {
     "name": "stdout",
     "output_type": "stream",
     "text": [
      "4\n"
     ]
    }
   ],
   "source": [
    "x = 2\n",
    "x = x + 2\n",
    "print(x)"
   ]
  },
  {
   "cell_type": "markdown",
   "id": "90175b1b",
   "metadata": {},
   "source": [
    "# Assignment Statements\n"
   ]
  },
  {
   "cell_type": "code",
   "execution_count": 7,
   "id": "75c52d3f",
   "metadata": {},
   "outputs": [
    {
     "name": "stdout",
     "output_type": "stream",
     "text": [
      "0.9359999999999999\n"
     ]
    }
   ],
   "source": [
    "x = 0.6\n",
    "x = 3.9 * x * ( 1 - x )\n",
    "print(x)"
   ]
  },
  {
   "cell_type": "markdown",
   "id": "94c6b253",
   "metadata": {},
   "source": [
    "# Numeric Expressions"
   ]
  },
  {
   "cell_type": "code",
   "execution_count": 8,
   "id": "b4250afb",
   "metadata": {},
   "outputs": [
    {
     "name": "stdout",
     "output_type": "stream",
     "text": [
      "4\n",
      "5280\n",
      "5.28\n"
     ]
    }
   ],
   "source": [
    "xx = 2\n",
    "xx = xx + 2\n",
    "print(xx)\n",
    "yy = 440 * 12\n",
    "print(yy)\n",
    "zz = yy / 1000\n",
    "print(zz)"
   ]
  },
  {
   "cell_type": "markdown",
   "id": "8206c1f2",
   "metadata": {},
   "source": [
    "# Operator Precedence"
   ]
  },
  {
   "cell_type": "code",
   "execution_count": 10,
   "id": "e01b4278",
   "metadata": {},
   "outputs": [
    {
     "name": "stdout",
     "output_type": "stream",
     "text": [
      "11.0\n"
     ]
    }
   ],
   "source": [
    "x = 1 + 2 ** 3 / 4 * 5 \n",
    "print(x)"
   ]
  },
  {
   "cell_type": "markdown",
   "id": "9bf9843e",
   "metadata": {},
   "source": [
    "# Type Programs"
   ]
  },
  {
   "cell_type": "code",
   "execution_count": 2,
   "id": "e4480d5d",
   "metadata": {},
   "outputs": [
    {
     "name": "stdout",
     "output_type": "stream",
     "text": [
      "<class 'int'>\n",
      "<class 'float'>\n",
      "<class 'int'>\n",
      "<class 'float'>\n",
      "HelloBob\n"
     ]
    }
   ],
   "source": [
    "xx= 1\n",
    "print(type(xx))\n",
    "temp = 98.6\n",
    "print(type(temp))\n",
    "print(type(1))\n",
    "print(type(1.0))\n",
    "eee = \"Hello\" + \"Bob\"\n",
    "print(eee)"
   ]
  },
  {
   "cell_type": "markdown",
   "id": "eb10e3cc",
   "metadata": {},
   "source": [
    "# Type Conversion\n"
   ]
  },
  {
   "cell_type": "code",
   "execution_count": 3,
   "id": "04443011",
   "metadata": {},
   "outputs": [
    {
     "name": "stdout",
     "output_type": "stream",
     "text": [
      "199.0\n",
      "<class 'int'>\n",
      "42.0\n",
      "<class 'float'>\n"
     ]
    }
   ],
   "source": [
    "print(float(99) + 100)\n",
    "199.0\n",
    "i = 42\n",
    "print(type(i))\n",
    "f = float(i)\n",
    "print(f)\n",
    "print(type(f))"
   ]
  },
  {
   "cell_type": "markdown",
   "id": "b25675f7",
   "metadata": {},
   "source": [
    "# Integer Division"
   ]
  },
  {
   "cell_type": "code",
   "execution_count": 4,
   "id": "537e13a7",
   "metadata": {},
   "outputs": [
    {
     "name": "stdout",
     "output_type": "stream",
     "text": [
      "5.0\n",
      "4.5\n",
      "0.99\n",
      "5.0\n",
      "0.99\n"
     ]
    }
   ],
   "source": [
    "print(10 / 2)\n",
    "print(9 / 2)\n",
    "print(99 / 100)\n",
    "print(10.0 / 2.0)\n",
    "print(99.0 / 100.0)"
   ]
  },
  {
   "cell_type": "markdown",
   "id": "98690b6a",
   "metadata": {},
   "source": [
    "# String Conversion"
   ]
  },
  {
   "cell_type": "code",
   "execution_count": 5,
   "id": "71c5701c",
   "metadata": {},
   "outputs": [
    {
     "name": "stdout",
     "output_type": "stream",
     "text": [
      "<class 'str'>\n",
      "<class 'int'>\n",
      "123\n",
      "hello bob\n"
     ]
    }
   ],
   "source": [
    "sval = '123'\n",
    "print(type(sval))\n",
    "ival = int(sval)\n",
    "print(type(ival))\n",
    "print(ival)\n",
    "nsv = 'hello bob'\n",
    "nsv = str(nsv)\n",
    "print(nsv)"
   ]
  },
  {
   "cell_type": "markdown",
   "id": "adda8228",
   "metadata": {},
   "source": [
    "# Input Function"
   ]
  },
  {
   "cell_type": "code",
   "execution_count": 7,
   "id": "a9a71078",
   "metadata": {},
   "outputs": [
    {
     "name": "stdout",
     "output_type": "stream",
     "text": [
      "Who are you? Nafia Aamir\n",
      "Welcome Nafia Aamir\n"
     ]
    }
   ],
   "source": [
    "nam = input('Who are you? ')\n",
    "print('Welcome', nam)"
   ]
  },
  {
   "cell_type": "markdown",
   "id": "d30b8cd8",
   "metadata": {},
   "source": [
    "# Converting User Input"
   ]
  },
  {
   "cell_type": "code",
   "execution_count": 1,
   "id": "b3a2d88f",
   "metadata": {},
   "outputs": [
    {
     "name": "stdout",
     "output_type": "stream",
     "text": [
      "Europe floor?2\n",
      "US floor 3\n"
     ]
    }
   ],
   "source": [
    "inp = input('Europe floor?')\n",
    "usf = int(inp) + 1\n",
    "print('US floor', usf)"
   ]
  },
  {
   "cell_type": "markdown",
   "id": "8361c4e8",
   "metadata": {},
   "source": [
    "# Comments in Python"
   ]
  },
  {
   "cell_type": "code",
   "execution_count": null,
   "id": "dd5740a1",
   "metadata": {},
   "outputs": [],
   "source": [
    "# Get the name of the file and open it\n",
    "name = input('Enter file:')\n",
    "handle = open(name, 'r')\n",
    "print(handle)"
   ]
  },
  {
   "cell_type": "code",
   "execution_count": null,
   "id": "535bf00f",
   "metadata": {},
   "outputs": [],
   "source": [
    "# Count word frequency\n",
    "counts = dict()\n",
    "for line in handle:\n",
    "words = line.split()\n",
    "for word in words:\n",
    "counts[word] = counts.get(word,0) + 1"
   ]
  },
  {
   "cell_type": "code",
   "execution_count": null,
   "id": "52a6ce68",
   "metadata": {},
   "outputs": [],
   "source": []
  }
 ],
 "metadata": {
  "kernelspec": {
   "display_name": "Python 3 (ipykernel)",
   "language": "python",
   "name": "python3"
  },
  "language_info": {
   "codemirror_mode": {
    "name": "ipython",
    "version": 3
   },
   "file_extension": ".py",
   "mimetype": "text/x-python",
   "name": "python",
   "nbconvert_exporter": "python",
   "pygments_lexer": "ipython3",
   "version": "3.11.4"
  }
 },
 "nbformat": 4,
 "nbformat_minor": 5
}
