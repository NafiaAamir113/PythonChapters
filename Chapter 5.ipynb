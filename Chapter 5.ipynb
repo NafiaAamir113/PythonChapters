{
 "cells": [
  {
   "cell_type": "markdown",
   "id": "ca35fe5b",
   "metadata": {},
   "source": [
    "# Title: Loops and Iterations"
   ]
  },
  {
   "cell_type": "markdown",
   "id": "e2e7e33a",
   "metadata": {},
   "source": [
    "# Repeated Steps"
   ]
  },
  {
   "cell_type": "code",
   "execution_count": 1,
   "id": "3898d4de",
   "metadata": {},
   "outputs": [
    {
     "name": "stdout",
     "output_type": "stream",
     "text": [
      "5\n",
      "4\n",
      "3\n",
      "2\n",
      "1\n",
      "Blastoff!\n",
      "0\n"
     ]
    }
   ],
   "source": [
    "n = 5\n",
    "while n > 0:\n",
    "    print(n)\n",
    "    n = n - 1\n",
    "print('Blastoff!')\n",
    "print(n)"
   ]
  },
  {
   "cell_type": "markdown",
   "id": "d43f3221",
   "metadata": {},
   "source": [
    "# Infinite Loop"
   ]
  },
  {
   "cell_type": "code",
   "execution_count": null,
   "id": "63dfd57c",
   "metadata": {},
   "outputs": [],
   "source": [
    "n = 5\n",
    "while n > 0:\n",
    "    print('Lather')\n",
    "    print('Rinse')\n",
    "print('Dry off!')"
   ]
  },
  {
   "cell_type": "markdown",
   "id": "95319335",
   "metadata": {},
   "source": [
    "# Breaking out of a Loop"
   ]
  },
  {
   "cell_type": "code",
   "execution_count": 6,
   "id": "6d92f788",
   "metadata": {},
   "outputs": [
    {
     "name": "stdout",
     "output_type": "stream",
     "text": [
      "> done\n",
      "Done!\n"
     ]
    }
   ],
   "source": [
    "while True:\n",
    "    line = input('>')\n",
    "    if line == 'done':\n",
    "        break\n",
    "    print(line)\n",
    "print('Done!')"
   ]
  },
  {
   "cell_type": "markdown",
   "id": "b1648992",
   "metadata": {},
   "source": [
    "# Finishing an Iteration With Continue"
   ]
  },
  {
   "cell_type": "code",
   "execution_count": 1,
   "id": "d7cbbe2b",
   "metadata": {},
   "outputs": [
    {
     "name": "stdout",
     "output_type": "stream",
     "text": [
      ">Hello there\n",
      "Hello there\n",
      ">print this!\n",
      "print this!\n",
      ">done\n",
      "Done!\n"
     ]
    }
   ],
   "source": [
    "while True:\n",
    "    line = input('>')\n",
    "    if line[0] == '#':\n",
    "        continue\n",
    "    if line == 'done':\n",
    "        break\n",
    "    print(line)\n",
    "print('Done!')"
   ]
  },
  {
   "cell_type": "markdown",
   "id": "a89e8617",
   "metadata": {},
   "source": [
    "# Definite Loop "
   ]
  },
  {
   "cell_type": "code",
   "execution_count": 2,
   "id": "83e2138c",
   "metadata": {},
   "outputs": [
    {
     "name": "stdout",
     "output_type": "stream",
     "text": [
      "5\n",
      "4\n",
      "3\n",
      "2\n",
      "1\n",
      "Blastoff!\n"
     ]
    }
   ],
   "source": [
    "for i  in [5, 4, 3, 2, 1]:\n",
    "    print(i)\n",
    "print('Blastoff!')"
   ]
  },
  {
   "cell_type": "markdown",
   "id": "ee780983",
   "metadata": {},
   "source": [
    "# Definite Loop with Strings"
   ]
  },
  {
   "cell_type": "code",
   "execution_count": 4,
   "id": "2e1fd583",
   "metadata": {},
   "outputs": [
    {
     "name": "stdout",
     "output_type": "stream",
     "text": [
      "Happy New Year: Joseph\n",
      "Happy New Year: Glenn\n",
      "Happy New Year: Sally\n",
      "Done!\n"
     ]
    }
   ],
   "source": [
    "friends = ['Joseph', 'Glenn', 'Sally']\n",
    "for friend in friends : \n",
    "    print('Happy New Year:', friend)\n",
    "print('Done!')"
   ]
  },
  {
   "cell_type": "code",
   "execution_count": 3,
   "id": "1115ac68",
   "metadata": {},
   "outputs": [
    {
     "name": "stdout",
     "output_type": "stream",
     "text": [
      "5\n",
      "4\n",
      "3\n",
      "2\n",
      "1\n"
     ]
    }
   ],
   "source": [
    "for i in [5, 4, 3, 2, 1]:\n",
    "    print(i)"
   ]
  },
  {
   "cell_type": "markdown",
   "id": "2ada72c3",
   "metadata": {},
   "source": [
    "# Looping Through a Set"
   ]
  },
  {
   "cell_type": "code",
   "execution_count": 4,
   "id": "c57cc50b",
   "metadata": {},
   "outputs": [
    {
     "name": "stdout",
     "output_type": "stream",
     "text": [
      "Before\n",
      "9\n",
      "41\n",
      "12\n",
      "3\n",
      "74\n",
      "15\n",
      "After\n"
     ]
    }
   ],
   "source": [
    "print('Before')\n",
    "for thing in [9, 41, 12, 3, 74, 15]:\n",
    "     print(thing)\n",
    "print('After')"
   ]
  },
  {
   "cell_type": "markdown",
   "id": "97688dd8",
   "metadata": {},
   "source": [
    "# Finding the Largest Value"
   ]
  },
  {
   "cell_type": "code",
   "execution_count": 5,
   "id": "0b602796",
   "metadata": {},
   "outputs": [
    {
     "name": "stdout",
     "output_type": "stream",
     "text": [
      "Before -1\n",
      "9 9\n",
      "41 41\n",
      "41 12\n",
      "41 3\n",
      "74 74\n",
      "74 15\n",
      "After 74\n"
     ]
    }
   ],
   "source": [
    "largest_so_far = -1\n",
    "print('Before', largest_so_far)\n",
    "for the_num in [9, 41, 12, 3, 74, 15]:\n",
    "    if the_num > largest_so_far:\n",
    "        largest_so_far = the_num\n",
    "    print(largest_so_far, the_num)\n",
    "    \n",
    "print('After', largest_so_far)"
   ]
  },
  {
   "cell_type": "markdown",
   "id": "d09a6cb8",
   "metadata": {},
   "source": [
    "# Counting In Loops"
   ]
  },
  {
   "cell_type": "code",
   "execution_count": 15,
   "id": "3e0bc483",
   "metadata": {},
   "outputs": [
    {
     "name": "stdout",
     "output_type": "stream",
     "text": [
      "Before 0\n",
      "1 9\n",
      "2 41\n",
      "3 12\n",
      "4 3\n",
      "5 74\n",
      "6 15\n",
      "After 6\n"
     ]
    }
   ],
   "source": [
    "zork = 0\n",
    "print('Before', zork)\n",
    "for thing in [9, 41, 12, 3, 74, 15]:\n",
    "    zork = zork + 1 \n",
    "    print(zork, thing)\n",
    "print('After', zork)"
   ]
  },
  {
   "cell_type": "markdown",
   "id": "aa892f56",
   "metadata": {},
   "source": [
    "# Summing In a Loop"
   ]
  },
  {
   "cell_type": "code",
   "execution_count": 3,
   "id": "0f20703a",
   "metadata": {},
   "outputs": [
    {
     "name": "stdout",
     "output_type": "stream",
     "text": [
      "Before 0\n",
      "9 9\n",
      "50 41\n",
      "62 12\n",
      "65 3\n",
      "139 74\n",
      "154 15\n",
      "After 154\n"
     ]
    }
   ],
   "source": [
    "zork = 0\n",
    "print('Before', zork)\n",
    "for thing in [9, 41, 12, 3, 74, 15]:\n",
    "    zork = zork + thing\n",
    "    print(zork, thing)\n",
    "print('After', zork)"
   ]
  },
  {
   "cell_type": "markdown",
   "id": "c85aecf3",
   "metadata": {},
   "source": [
    "# Finding the Average in a Loop"
   ]
  },
  {
   "cell_type": "code",
   "execution_count": 2,
   "id": "52a2eed6",
   "metadata": {},
   "outputs": [
    {
     "name": "stdout",
     "output_type": "stream",
     "text": [
      "Before 0 0\n",
      "1 9 9\n",
      "2 50 41\n",
      "3 62 12\n",
      "4 65 3\n",
      "5 139 74\n",
      "6 154 15\n",
      "After 6 154 25.666666666666668\n"
     ]
    }
   ],
   "source": [
    "count = 0\n",
    "sum = 0\n",
    "print('Before', count, sum)\n",
    "for value in [9, 41, 12, 3, 74, 15]:\n",
    "    count = count + 1\n",
    "    sum = sum + value\n",
    "    print(count, sum, value)\n",
    "print('After', count, sum, sum / count)"
   ]
  },
  {
   "cell_type": "markdown",
   "id": "31fa84d4",
   "metadata": {},
   "source": [
    "# Filtering in a Loop"
   ]
  },
  {
   "cell_type": "code",
   "execution_count": 18,
   "id": "111bc2f1",
   "metadata": {},
   "outputs": [
    {
     "name": "stdout",
     "output_type": "stream",
     "text": [
      "Before\n",
      "Large number 41\n",
      "Large number 74\n",
      "After\n"
     ]
    }
   ],
   "source": [
    "print('Before')\n",
    "for value in [9, 41, 12, 3, 74, 15]:\n",
    "    if value > 20:\n",
    "        print('Large number',value)\n",
    "print('After')"
   ]
  },
  {
   "cell_type": "markdown",
   "id": "37c66992",
   "metadata": {},
   "source": [
    "# Search Using a Boolean Variable"
   ]
  },
  {
   "cell_type": "code",
   "execution_count": 21,
   "id": "e40ffbfd",
   "metadata": {},
   "outputs": [
    {
     "name": "stdout",
     "output_type": "stream",
     "text": [
      "Before False\n",
      "False 9\n",
      "False 41\n",
      "False 12\n",
      "True 3\n",
      "True 74\n",
      "True 15\n",
      "After True\n"
     ]
    }
   ],
   "source": [
    "found = False\n",
    "print('Before', found)\n",
    "for value in [9, 41, 12, 3, 74, 15]: \n",
    "    if value == 3:\n",
    "        found = True\n",
    "    print(found, value)\n",
    "print('After', found)"
   ]
  },
  {
   "cell_type": "markdown",
   "id": "fd11ca53",
   "metadata": {},
   "source": [
    "# Finding the Smallest Value"
   ]
  },
  {
   "cell_type": "code",
   "execution_count": 1,
   "id": "c33cdcda",
   "metadata": {},
   "outputs": [
    {
     "name": "stdout",
     "output_type": "stream",
     "text": [
      "Before\n",
      "9 9\n",
      "9 41\n",
      "9 12\n",
      "3 3\n",
      "3 74\n",
      "3 15\n",
      "After 3\n"
     ]
    }
   ],
   "source": [
    "smallest = None\n",
    "print('Before')\n",
    "for value in [9, 41, 12, 3, 74, 15]:\n",
    "    if smallest is None: \n",
    "        smallest = value\n",
    "    elif value < smallest: \n",
    "        smallest = value\n",
    "    print(smallest, value)\n",
    "print('After', smallest)"
   ]
  },
  {
   "cell_type": "markdown",
   "id": "037e8e0a",
   "metadata": {},
   "source": [
    "# The is and is not Operators"
   ]
  },
  {
   "cell_type": "code",
   "execution_count": 24,
   "id": "b4a5ba99",
   "metadata": {},
   "outputs": [
    {
     "name": "stdout",
     "output_type": "stream",
     "text": [
      "Before\n",
      "3 3\n",
      "3 41\n",
      "3 12\n",
      "3 9\n",
      "3 74\n",
      "3 15\n",
      "After 3\n"
     ]
    }
   ],
   "source": [
    "smallest = None\n",
    "print('Before')\n",
    "for value in [3, 41, 12, 9, 74, 15]:\n",
    "    if smallest is None: \n",
    "        smallest = value\n",
    "    elif value < smallest: \n",
    "        smallest = value\n",
    "    print(smallest, value)\n",
    "print('After', smallest)"
   ]
  },
  {
   "cell_type": "code",
   "execution_count": null,
   "id": "fa044aca",
   "metadata": {},
   "outputs": [],
   "source": []
  }
 ],
 "metadata": {
  "kernelspec": {
   "display_name": "Python 3 (ipykernel)",
   "language": "python",
   "name": "python3"
  },
  "language_info": {
   "codemirror_mode": {
    "name": "ipython",
    "version": 3
   },
   "file_extension": ".py",
   "mimetype": "text/x-python",
   "name": "python",
   "nbconvert_exporter": "python",
   "pygments_lexer": "ipython3",
   "version": "3.11.4"
  }
 },
 "nbformat": 4,
 "nbformat_minor": 5
}
